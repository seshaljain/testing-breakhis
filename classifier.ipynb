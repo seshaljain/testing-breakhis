{
 "cells": [
  {
   "cell_type": "code",
   "execution_count": 1,
   "metadata": {
    "id": "zLn7vj5pDQPj"
   },
   "outputs": [
    {
     "name": "stderr",
     "output_type": "stream",
     "text": [
      "2022-11-26 10:40:25.663475: I tensorflow/core/platform/cpu_feature_guard.cc:193] This TensorFlow binary is optimized with oneAPI Deep Neural Network Library (oneDNN) to use the following CPU instructions in performance-critical operations:  AVX2 FMA\n",
      "To enable them in other operations, rebuild TensorFlow with the appropriate compiler flags.\n",
      "2022-11-26 10:40:25.918259: W tensorflow/compiler/xla/stream_executor/platform/default/dso_loader.cc:64] Could not load dynamic library 'libcudart.so.11.0'; dlerror: libcudart.so.11.0: cannot open shared object file: No such file or directory\n",
      "2022-11-26 10:40:25.918322: I tensorflow/compiler/xla/stream_executor/cuda/cudart_stub.cc:29] Ignore above cudart dlerror if you do not have a GPU set up on your machine.\n",
      "2022-11-26 10:40:27.933263: W tensorflow/compiler/xla/stream_executor/platform/default/dso_loader.cc:64] Could not load dynamic library 'libnvinfer.so.7'; dlerror: libnvinfer.so.7: cannot open shared object file: No such file or directory\n",
      "2022-11-26 10:40:27.933489: W tensorflow/compiler/xla/stream_executor/platform/default/dso_loader.cc:64] Could not load dynamic library 'libnvinfer_plugin.so.7'; dlerror: libnvinfer_plugin.so.7: cannot open shared object file: No such file or directory\n",
      "2022-11-26 10:40:27.933513: W tensorflow/compiler/tf2tensorrt/utils/py_utils.cc:38] TF-TRT Warning: Cannot dlopen some TensorRT libraries. If you would like to use Nvidia GPU with TensorRT, please make sure the missing libraries mentioned above are installed properly.\n"
     ]
    }
   ],
   "source": [
    "import os\n",
    "import random\n",
    "import warnings\n",
    "import numpy as np\n",
    "import pandas as pd\n",
    "import seaborn as sn\n",
    "import csv\n",
    "import pickle\n",
    "\n",
    "from tqdm import tqdm\n",
    "from matplotlib import pyplot as plt\n",
    "\n",
    "\n",
    "from sklearn.pipeline import make_pipeline\n",
    "from sklearn.preprocessing import LabelEncoder, StandardScaler\n",
    "from sklearn.neighbors import KNeighborsClassifier\n",
    "from sklearn.tree import DecisionTreeClassifier\n",
    "from sklearn.svm import SVC\n",
    "\n",
    "from sklearn.metrics import auc, classification_report, confusion_matrix, roc_curve\n",
    "\n",
    "warnings.filterwarnings('ignore')\n",
    "\n",
    "import tensorflow as tf\n",
    "from tensorflow.keras.optimizers import SGD\n",
    "from tensorflow.keras.models import load_model\n",
    "from tensorflow.keras.preprocessing.image import img_to_array, load_img"
   ]
  },
  {
   "cell_type": "code",
   "execution_count": 2,
   "metadata": {
    "colab": {
     "base_uri": "https://localhost:8080/"
    },
    "id": "aNM0aKz1DeKy",
    "outputId": "2db7f170-59a0-43ef-e481-c78531cf4b05"
   },
   "outputs": [],
   "source": [
    "# from google.colab import drive\n",
    "# drive.mount('/content/gdrive')\n",
    "# os.environ['KAGGLE_CONFIG_DIR'] = \"/content/gdrive/My Drive/Kaggle\"\n",
    "# %cd \"/content/gdrive/MyDrive/Kaggle\""
   ]
  },
  {
   "cell_type": "code",
   "execution_count": 3,
   "metadata": {
    "id": "gvcsLhCQDyen"
   },
   "outputs": [],
   "source": [
    "# base_path =  '/content/gdrive/MyDrive/Kaggle/'\n",
    "base_path =  '.'\n",
    "# data_path =  'BreaKHis_v1/BreaKHis_v1/histology_slides/breast'\n",
    "data_path =  'BreaKHis_v1/histology_slides/breast'\n",
    "magnifications = ['40X', '100X', '200X', '400X']\n",
    "classes = ['benign', 'malignant']\n",
    "sub_classes = {\n",
    "    'benign': ['adenosis', 'fibroadenoma', 'phyllodes_tumor', 'tubular_adenoma'],\n",
    "    'malignant': ['ductal_carcinoma', 'lobular_carcinoma', 'mucinous_carcinoma', 'papillary_carcinoma']\n",
    "}\n",
    "n_folds = (1, 2, 3, 4, 5)\n"
   ]
  },
  {
   "cell_type": "code",
   "execution_count": 4,
   "metadata": {},
   "outputs": [
    {
     "data": {
      "text/html": [
       "<style>#sk-container-id-1 {color: black;background-color: white;}#sk-container-id-1 pre{padding: 0;}#sk-container-id-1 div.sk-toggleable {background-color: white;}#sk-container-id-1 label.sk-toggleable__label {cursor: pointer;display: block;width: 100%;margin-bottom: 0;padding: 0.3em;box-sizing: border-box;text-align: center;}#sk-container-id-1 label.sk-toggleable__label-arrow:before {content: \"▸\";float: left;margin-right: 0.25em;color: #696969;}#sk-container-id-1 label.sk-toggleable__label-arrow:hover:before {color: black;}#sk-container-id-1 div.sk-estimator:hover label.sk-toggleable__label-arrow:before {color: black;}#sk-container-id-1 div.sk-toggleable__content {max-height: 0;max-width: 0;overflow: hidden;text-align: left;background-color: #f0f8ff;}#sk-container-id-1 div.sk-toggleable__content pre {margin: 0.2em;color: black;border-radius: 0.25em;background-color: #f0f8ff;}#sk-container-id-1 input.sk-toggleable__control:checked~div.sk-toggleable__content {max-height: 200px;max-width: 100%;overflow: auto;}#sk-container-id-1 input.sk-toggleable__control:checked~label.sk-toggleable__label-arrow:before {content: \"▾\";}#sk-container-id-1 div.sk-estimator input.sk-toggleable__control:checked~label.sk-toggleable__label {background-color: #d4ebff;}#sk-container-id-1 div.sk-label input.sk-toggleable__control:checked~label.sk-toggleable__label {background-color: #d4ebff;}#sk-container-id-1 input.sk-hidden--visually {border: 0;clip: rect(1px 1px 1px 1px);clip: rect(1px, 1px, 1px, 1px);height: 1px;margin: -1px;overflow: hidden;padding: 0;position: absolute;width: 1px;}#sk-container-id-1 div.sk-estimator {font-family: monospace;background-color: #f0f8ff;border: 1px dotted black;border-radius: 0.25em;box-sizing: border-box;margin-bottom: 0.5em;}#sk-container-id-1 div.sk-estimator:hover {background-color: #d4ebff;}#sk-container-id-1 div.sk-parallel-item::after {content: \"\";width: 100%;border-bottom: 1px solid gray;flex-grow: 1;}#sk-container-id-1 div.sk-label:hover label.sk-toggleable__label {background-color: #d4ebff;}#sk-container-id-1 div.sk-serial::before {content: \"\";position: absolute;border-left: 1px solid gray;box-sizing: border-box;top: 0;bottom: 0;left: 50%;z-index: 0;}#sk-container-id-1 div.sk-serial {display: flex;flex-direction: column;align-items: center;background-color: white;padding-right: 0.2em;padding-left: 0.2em;position: relative;}#sk-container-id-1 div.sk-item {position: relative;z-index: 1;}#sk-container-id-1 div.sk-parallel {display: flex;align-items: stretch;justify-content: center;background-color: white;position: relative;}#sk-container-id-1 div.sk-item::before, #sk-container-id-1 div.sk-parallel-item::before {content: \"\";position: absolute;border-left: 1px solid gray;box-sizing: border-box;top: 0;bottom: 0;left: 50%;z-index: -1;}#sk-container-id-1 div.sk-parallel-item {display: flex;flex-direction: column;z-index: 1;position: relative;background-color: white;}#sk-container-id-1 div.sk-parallel-item:first-child::after {align-self: flex-end;width: 50%;}#sk-container-id-1 div.sk-parallel-item:last-child::after {align-self: flex-start;width: 50%;}#sk-container-id-1 div.sk-parallel-item:only-child::after {width: 0;}#sk-container-id-1 div.sk-dashed-wrapped {border: 1px dashed gray;margin: 0 0.4em 0.5em 0.4em;box-sizing: border-box;padding-bottom: 0.4em;background-color: white;}#sk-container-id-1 div.sk-label label {font-family: monospace;font-weight: bold;display: inline-block;line-height: 1.2em;}#sk-container-id-1 div.sk-label-container {text-align: center;}#sk-container-id-1 div.sk-container {/* jupyter's `normalize.less` sets `[hidden] { display: none; }` but bootstrap.min.css set `[hidden] { display: none !important; }` so we also need the `!important` here to be able to override the default hidden behavior on the sphinx rendered scikit-learn.org. See: https://github.com/scikit-learn/scikit-learn/issues/21755 */display: inline-block !important;position: relative;}#sk-container-id-1 div.sk-text-repr-fallback {display: none;}</style><div id=\"sk-container-id-1\" class=\"sk-top-container\"><div class=\"sk-text-repr-fallback\"><pre>LabelEncoder()</pre><b>In a Jupyter environment, please rerun this cell to show the HTML representation or trust the notebook. <br />On GitHub, the HTML representation is unable to render, please try loading this page with nbviewer.org.</b></div><div class=\"sk-container\" hidden><div class=\"sk-item\"><div class=\"sk-estimator sk-toggleable\"><input class=\"sk-toggleable__control sk-hidden--visually\" id=\"sk-estimator-id-1\" type=\"checkbox\" checked><label for=\"sk-estimator-id-1\" class=\"sk-toggleable__label sk-toggleable__label-arrow\">LabelEncoder</label><div class=\"sk-toggleable__content\"><pre>LabelEncoder()</pre></div></div></div></div></div>"
      ],
      "text/plain": [
       "LabelEncoder()"
      ]
     },
     "execution_count": 4,
     "metadata": {},
     "output_type": "execute_result"
    }
   ],
   "source": [
    "encoder = LabelEncoder()\n",
    "encoder.fit(classes)"
   ]
  },
  {
   "cell_type": "code",
   "execution_count": 5,
   "metadata": {},
   "outputs": [],
   "source": [
    "load_ds_from_pickle = True\n",
    "# load_ds_from_pickle = False"
   ]
  },
  {
   "cell_type": "code",
   "execution_count": 6,
   "metadata": {
    "colab": {
     "base_uri": "https://localhost:8080/"
    },
    "id": "-PYr98HAGYj6",
    "outputId": "f30660c6-3a6d-4581-d0bf-37c1dcbfbbd8"
   },
   "outputs": [
    {
     "data": {
      "text/html": [
       "<div>\n",
       "<style scoped>\n",
       "    .dataframe tbody tr th:only-of-type {\n",
       "        vertical-align: middle;\n",
       "    }\n",
       "\n",
       "    .dataframe tbody tr th {\n",
       "        vertical-align: top;\n",
       "    }\n",
       "\n",
       "    .dataframe thead th {\n",
       "        text-align: right;\n",
       "    }\n",
       "</style>\n",
       "<table border=\"1\" class=\"dataframe\">\n",
       "  <thead>\n",
       "    <tr style=\"text-align: right;\">\n",
       "      <th></th>\n",
       "      <th>id</th>\n",
       "      <th>file_name</th>\n",
       "      <th>path</th>\n",
       "      <th>magnification</th>\n",
       "      <th>type</th>\n",
       "      <th>lesion</th>\n",
       "      <th>fold_1</th>\n",
       "      <th>fold_2</th>\n",
       "      <th>fold_3</th>\n",
       "      <th>fold_4</th>\n",
       "      <th>fold_5</th>\n",
       "    </tr>\n",
       "  </thead>\n",
       "  <tbody>\n",
       "    <tr>\n",
       "      <th>0</th>\n",
       "      <td>SOB_B_A_14-22549AB</td>\n",
       "      <td>SOB_B_A-14-22549AB-40-005.png</td>\n",
       "      <td>./BreaKHis_v1/histology_slides/breast/benign/S...</td>\n",
       "      <td>40X</td>\n",
       "      <td>adenosis</td>\n",
       "      <td>benign</td>\n",
       "      <td>train</td>\n",
       "      <td>train</td>\n",
       "      <td>train</td>\n",
       "      <td>test</td>\n",
       "      <td>test</td>\n",
       "    </tr>\n",
       "    <tr>\n",
       "      <th>1</th>\n",
       "      <td>SOB_B_A_14-22549AB</td>\n",
       "      <td>SOB_B_A-14-22549AB-40-022.png</td>\n",
       "      <td>./BreaKHis_v1/histology_slides/breast/benign/S...</td>\n",
       "      <td>40X</td>\n",
       "      <td>adenosis</td>\n",
       "      <td>benign</td>\n",
       "      <td>train</td>\n",
       "      <td>train</td>\n",
       "      <td>train</td>\n",
       "      <td>test</td>\n",
       "      <td>test</td>\n",
       "    </tr>\n",
       "    <tr>\n",
       "      <th>2</th>\n",
       "      <td>SOB_B_A_14-22549AB</td>\n",
       "      <td>SOB_B_A-14-22549AB-40-027.png</td>\n",
       "      <td>./BreaKHis_v1/histology_slides/breast/benign/S...</td>\n",
       "      <td>40X</td>\n",
       "      <td>adenosis</td>\n",
       "      <td>benign</td>\n",
       "      <td>train</td>\n",
       "      <td>train</td>\n",
       "      <td>train</td>\n",
       "      <td>test</td>\n",
       "      <td>test</td>\n",
       "    </tr>\n",
       "    <tr>\n",
       "      <th>3</th>\n",
       "      <td>SOB_B_A_14-22549AB</td>\n",
       "      <td>SOB_B_A-14-22549AB-40-012.png</td>\n",
       "      <td>./BreaKHis_v1/histology_slides/breast/benign/S...</td>\n",
       "      <td>40X</td>\n",
       "      <td>adenosis</td>\n",
       "      <td>benign</td>\n",
       "      <td>train</td>\n",
       "      <td>train</td>\n",
       "      <td>train</td>\n",
       "      <td>test</td>\n",
       "      <td>test</td>\n",
       "    </tr>\n",
       "    <tr>\n",
       "      <th>4</th>\n",
       "      <td>SOB_B_A_14-22549AB</td>\n",
       "      <td>SOB_B_A-14-22549AB-40-017.png</td>\n",
       "      <td>./BreaKHis_v1/histology_slides/breast/benign/S...</td>\n",
       "      <td>40X</td>\n",
       "      <td>adenosis</td>\n",
       "      <td>benign</td>\n",
       "      <td>train</td>\n",
       "      <td>train</td>\n",
       "      <td>train</td>\n",
       "      <td>test</td>\n",
       "      <td>test</td>\n",
       "    </tr>\n",
       "  </tbody>\n",
       "</table>\n",
       "</div>"
      ],
      "text/plain": [
       "                   id                      file_name  \\\n",
       "0  SOB_B_A_14-22549AB  SOB_B_A-14-22549AB-40-005.png   \n",
       "1  SOB_B_A_14-22549AB  SOB_B_A-14-22549AB-40-022.png   \n",
       "2  SOB_B_A_14-22549AB  SOB_B_A-14-22549AB-40-027.png   \n",
       "3  SOB_B_A_14-22549AB  SOB_B_A-14-22549AB-40-012.png   \n",
       "4  SOB_B_A_14-22549AB  SOB_B_A-14-22549AB-40-017.png   \n",
       "\n",
       "                                                path magnification      type  \\\n",
       "0  ./BreaKHis_v1/histology_slides/breast/benign/S...           40X  adenosis   \n",
       "1  ./BreaKHis_v1/histology_slides/breast/benign/S...           40X  adenosis   \n",
       "2  ./BreaKHis_v1/histology_slides/breast/benign/S...           40X  adenosis   \n",
       "3  ./BreaKHis_v1/histology_slides/breast/benign/S...           40X  adenosis   \n",
       "4  ./BreaKHis_v1/histology_slides/breast/benign/S...           40X  adenosis   \n",
       "\n",
       "   lesion fold_1 fold_2 fold_3 fold_4 fold_5  \n",
       "0  benign  train  train  train   test   test  \n",
       "1  benign  train  train  train   test   test  \n",
       "2  benign  train  train  train   test   test  \n",
       "3  benign  train  train  train   test   test  \n",
       "4  benign  train  train  train   test   test  "
      ]
     },
     "execution_count": 6,
     "metadata": {},
     "output_type": "execute_result"
    }
   ],
   "source": [
    "dataset = pd.DataFrame()\n",
    "\n",
    "if load_ds_from_pickle:\n",
    "    dataset = pd.read_pickle('dataset.pkl')\n",
    "else:\n",
    "    for clazz in classes:\n",
    "        for sub_clazz in sub_classes[clazz]:\n",
    "            path = os.path.join(base_path, data_path, clazz, \"SOB\", sub_clazz)\n",
    "            for id in os.listdir(path):\n",
    "                for magnification in magnifications:\n",
    "                    path_to_files = os.path.join(path, id, magnification)\n",
    "                    for file_name in os.listdir(path_to_files):\n",
    "                        dataset = dataset.append({\n",
    "                            'id': id,\n",
    "                            'file_name': file_name,\n",
    "                            'path': os.path.join(path_to_files, file_name),\n",
    "                            'magnification': magnification,\n",
    "                            'type': sub_clazz,\n",
    "                            'lesion': clazz\n",
    "                        }, ignore_index=True)\n",
    "\n",
    "# 5 fold K\n",
    "    n_folds = (1, 2, 3, 4, 5)\n",
    "    folds_df = pd.DataFrame()\n",
    "    for nfold in n_folds:\n",
    "        fold_file = f\"dsfold{nfold}.txt\"\n",
    "\n",
    "        fd = pd.read_csv(fold_file, delimiter=\"|\", names=[\n",
    "                         \"file_name\", \"magnification\", \"fold\", \"grp\"])\n",
    "        fd = fd[[\"file_name\", \"grp\"]]\n",
    "        fd.rename(columns={\"grp\": f\"fold_{nfold}\"}, inplace=True)\n",
    "        if folds_df.empty:\n",
    "            folds_df = folds_df.append(fd)\n",
    "        else:\n",
    "            folds_df = folds_df.merge(fd, how=\"inner\", on=\"file_name\")\n",
    "\n",
    "    folds_df.head()\n",
    "\n",
    "    dataset = dataset.merge(folds_df, how=\"inner\", on=\"file_name\")\n",
    "\n",
    "    dataset.to_pickle('dataset.pkl')\n",
    "\n",
    "dataset.head()\n"
   ]
  },
  {
   "cell_type": "markdown",
   "metadata": {},
   "source": [
    "### Classifier Functions"
   ]
  },
  {
   "cell_type": "code",
   "execution_count": 7,
   "metadata": {
    "colab": {
     "base_uri": "https://localhost:8080/",
     "height": 391
    },
    "id": "vC9oY3Tbexoa",
    "outputId": "18bd309c-e4e9-42d3-f5a8-25e3dae1b256"
   },
   "outputs": [],
   "source": [
    "def knn_clf(x_train, y_train, x_test, y_test):\n",
    "    k = 1\n",
    "    knn_clf = KNeighborsClassifier(n_neighbors=k)\n",
    "    knn_clf.fit(x_train, y_train)\n",
    "    \n",
    "    return classification_report(y_test, knn_clf.predict(x_test), output_dict=True)\n",
    "\n",
    "def svm_clf(x_train, y_train, x_test, y_test):\n",
    "    svm_clf = SVC()\n",
    "    svm_clf = svm_clf.fit(x_train, y_train)\n",
    "\n",
    "    return classification_report(y_test, svm_clf.predict(x_test), output_dict=True)\n",
    "\n",
    "def dt_clf(x_train, y_train, x_test, y_test):\n",
    "    dt_clf = DecisionTreeClassifier()\n",
    "    dt_clf = dt_clf.fit(x_train, y_train)\n",
    "\n",
    "    return classification_report(y_test, dt_clf.predict(x_test), output_dict=True)"
   ]
  },
  {
   "cell_type": "code",
   "execution_count": 8,
   "metadata": {},
   "outputs": [],
   "source": [
    "image_size = (46, 70, 3)"
   ]
  },
  {
   "cell_type": "code",
   "execution_count": 9,
   "metadata": {},
   "outputs": [],
   "source": [
    "results = {\n",
    "    \"knn\": {\n",
    "    },\n",
    "    \"svm\": {\n",
    "    },\n",
    "    \"dt\": {\n",
    "    },\n",
    "}"
   ]
  },
  {
   "cell_type": "code",
   "execution_count": 11,
   "metadata": {},
   "outputs": [],
   "source": [
    "def run_clfs(clf, mag, n_fold):\n",
    "    print(\"Classifier:\", clf)\n",
    "    print(\"Magnification:\", mag)\n",
    "    print(\"Fold:\", n_fold)\n",
    "\n",
    "    df = dataset.copy()[dataset[\"magnification\"] == mag]\n",
    "    train_df = df.copy()[dataset[n_fold] == \"train\"]\n",
    "    test_df = df.copy().drop(train_df.index).reset_index(drop=True)\n",
    "\n",
    "    x_train, x_test, y_train, y_test = [], [], [], []\n",
    "\n",
    "    for i, row in tqdm(train_df.iterrows()):\n",
    "        image = load_img(row[\"path\"], target_size=image_size)\n",
    "        x_train.append(img_to_array(image) / 255.0)\n",
    "        y_train.append(row[\"lesion\"])\n",
    "\n",
    "    for i, row in tqdm(test_df.iterrows()):\n",
    "        image = load_img(row[\"path\"], target_size=image_size)\n",
    "        x_test.append(img_to_array(image) / 255.0)\n",
    "        y_test.append(row[\"lesion\"])    \n",
    "\n",
    "    x_train_ = np.asarray(x_train)\n",
    "    x_test_ = np.asarray(x_test)\n",
    "\n",
    "    x_train_ = np.reshape(x_train_, (len(x_train_), np.prod(image_size)))\n",
    "    x_test_ = np.reshape(x_test_, (len(x_test_), np.prod(image_size)))\n",
    "\n",
    "    y_train_ = encoder.transform(y_train)\n",
    "    y_test_ = encoder.transform(y_test)\n",
    "\n",
    "    results[clf][mag] = {}\n",
    "    if clf == \"knn\":\n",
    "        # 1NN\n",
    "        results[clf][mag][n_fold] = knn_clf(x_train_, y_train_, x_test_, y_test_)\n",
    "    elif clf == \"svm\":\n",
    "        # SVM\n",
    "        results[clf][mag][n_fold] = svm_clf(x_train_, y_train_, x_test_, y_test_)\n",
    "    elif clf == \"dt\":\n",
    "        # Decision Tree\n",
    "        results[clf][mag][n_fold] = dt_clf(x_train_, y_train_, x_test_, y_test_)\n",
    "\n",
    "    print(\"Processed:\", clf, mag, n_fold)\n",
    "\n",
    "    with open(f\"results/{clf}_{mag}_{n_fold}.pkl\", 'wb') as f:\n",
    "        pickle.dump(results, f)"
   ]
  }
 ],
 "metadata": {
  "accelerator": "GPU",
  "colab": {
   "provenance": []
  },
  "gpuClass": "standard",
  "kernelspec": {
   "display_name": "Python 3 (ipykernel)",
   "language": "python",
   "name": "python3"
  },
  "language_info": {
   "codemirror_mode": {
    "name": "ipython",
    "version": 3
   },
   "file_extension": ".py",
   "mimetype": "text/x-python",
   "name": "python",
   "nbconvert_exporter": "python",
   "pygments_lexer": "ipython3",
   "version": "3.10.8"
  },
  "vscode": {
   "interpreter": {
    "hash": "5451a9d63224226169f8a39e23e3311b9a93f8585bd08af47fd4ad0b256c7db9"
   }
  }
 },
 "nbformat": 4,
 "nbformat_minor": 1
}
