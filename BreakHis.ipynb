{
 "cells": [
  {
   "cell_type": "code",
   "execution_count": 1,
   "metadata": {
    "id": "zLn7vj5pDQPj"
   },
   "outputs": [
    {
     "name": "stderr",
     "output_type": "stream",
     "text": [
      "2022-11-23 09:51:02.804564: I tensorflow/core/platform/cpu_feature_guard.cc:193] This TensorFlow binary is optimized with oneAPI Deep Neural Network Library (oneDNN) to use the following CPU instructions in performance-critical operations:  AVX2 FMA\n",
      "To enable them in other operations, rebuild TensorFlow with the appropriate compiler flags.\n",
      "2022-11-23 09:51:03.273609: W tensorflow/compiler/xla/stream_executor/platform/default/dso_loader.cc:64] Could not load dynamic library 'libcudart.so.11.0'; dlerror: libcudart.so.11.0: cannot open shared object file: No such file or directory\n",
      "2022-11-23 09:51:03.273653: I tensorflow/compiler/xla/stream_executor/cuda/cudart_stub.cc:29] Ignore above cudart dlerror if you do not have a GPU set up on your machine.\n",
      "2022-11-23 09:51:05.066054: W tensorflow/compiler/xla/stream_executor/platform/default/dso_loader.cc:64] Could not load dynamic library 'libnvinfer.so.7'; dlerror: libnvinfer.so.7: cannot open shared object file: No such file or directory\n",
      "2022-11-23 09:51:05.066817: W tensorflow/compiler/xla/stream_executor/platform/default/dso_loader.cc:64] Could not load dynamic library 'libnvinfer_plugin.so.7'; dlerror: libnvinfer_plugin.so.7: cannot open shared object file: No such file or directory\n",
      "2022-11-23 09:51:05.066877: W tensorflow/compiler/tf2tensorrt/utils/py_utils.cc:38] TF-TRT Warning: Cannot dlopen some TensorRT libraries. If you would like to use Nvidia GPU with TensorRT, please make sure the missing libraries mentioned above are installed properly.\n"
     ]
    }
   ],
   "source": [
    "import os\n",
    "import random\n",
    "import warnings\n",
    "import numpy as np\n",
    "import pandas as pd\n",
    "import seaborn as sn\n",
    "import csv\n",
    "\n",
    "from tqdm import tqdm\n",
    "from matplotlib import pyplot as plt\n",
    "\n",
    "\n",
    "from sklearn.pipeline import make_pipeline\n",
    "from sklearn.preprocessing import LabelEncoder, StandardScaler\n",
    "from sklearn.neighbors import KNeighborsClassifier\n",
    "from sklearn.tree import DecisionTreeClassifier\n",
    "from sklearn.svm import SVC\n",
    "\n",
    "from sklearn.metrics import auc, classification_report, confusion_matrix, roc_curve\n",
    "\n",
    "warnings.filterwarnings('ignore')\n",
    "\n",
    "import tensorflow as tf\n",
    "from tensorflow.keras.optimizers import SGD\n",
    "from tensorflow.keras.models import load_model\n",
    "from tensorflow.keras.preprocessing.image import img_to_array, load_img"
   ]
  },
  {
   "cell_type": "code",
   "execution_count": null,
   "metadata": {
    "colab": {
     "base_uri": "https://localhost:8080/"
    },
    "id": "aNM0aKz1DeKy",
    "outputId": "2db7f170-59a0-43ef-e481-c78531cf4b05"
   },
   "outputs": [],
   "source": [
    "from google.colab import drive\n",
    "drive.mount('/content/gdrive')\n",
    "os.environ['KAGGLE_CONFIG_DIR'] = \"/content/gdrive/My Drive/Kaggle\"\n",
    "%cd \"/content/gdrive/MyDrive/Kaggle\""
   ]
  },
  {
   "cell_type": "code",
   "execution_count": 2,
   "metadata": {
    "id": "gvcsLhCQDyen"
   },
   "outputs": [],
   "source": [
    "# base_path =  '/content/gdrive/MyDrive/Kaggle/'\n",
    "base_path =  '.'\n",
    "# data_path =  'BreaKHis_v1/BreaKHis_v1/histology_slides/breast'\n",
    "data_path =  'BreaKHis_v1/histology_slides/breast'\n",
    "magnifications = ['40X', '100X', '200X', '400X']\n",
    "classes = ['benign', 'malignant']\n",
    "sub_classes = {\n",
    "    'benign': ['adenosis', 'fibroadenoma', 'phyllodes_tumor', 'tubular_adenoma'],\n",
    "    'malignant': ['ductal_carcinoma', 'lobular_carcinoma', 'mucinous_carcinoma', 'papillary_carcinoma']\n",
    "}"
   ]
  },
  {
   "cell_type": "code",
   "execution_count": 3,
   "metadata": {},
   "outputs": [
    {
     "data": {
      "text/html": [
       "<style>#sk-container-id-1 {color: black;background-color: white;}#sk-container-id-1 pre{padding: 0;}#sk-container-id-1 div.sk-toggleable {background-color: white;}#sk-container-id-1 label.sk-toggleable__label {cursor: pointer;display: block;width: 100%;margin-bottom: 0;padding: 0.3em;box-sizing: border-box;text-align: center;}#sk-container-id-1 label.sk-toggleable__label-arrow:before {content: \"▸\";float: left;margin-right: 0.25em;color: #696969;}#sk-container-id-1 label.sk-toggleable__label-arrow:hover:before {color: black;}#sk-container-id-1 div.sk-estimator:hover label.sk-toggleable__label-arrow:before {color: black;}#sk-container-id-1 div.sk-toggleable__content {max-height: 0;max-width: 0;overflow: hidden;text-align: left;background-color: #f0f8ff;}#sk-container-id-1 div.sk-toggleable__content pre {margin: 0.2em;color: black;border-radius: 0.25em;background-color: #f0f8ff;}#sk-container-id-1 input.sk-toggleable__control:checked~div.sk-toggleable__content {max-height: 200px;max-width: 100%;overflow: auto;}#sk-container-id-1 input.sk-toggleable__control:checked~label.sk-toggleable__label-arrow:before {content: \"▾\";}#sk-container-id-1 div.sk-estimator input.sk-toggleable__control:checked~label.sk-toggleable__label {background-color: #d4ebff;}#sk-container-id-1 div.sk-label input.sk-toggleable__control:checked~label.sk-toggleable__label {background-color: #d4ebff;}#sk-container-id-1 input.sk-hidden--visually {border: 0;clip: rect(1px 1px 1px 1px);clip: rect(1px, 1px, 1px, 1px);height: 1px;margin: -1px;overflow: hidden;padding: 0;position: absolute;width: 1px;}#sk-container-id-1 div.sk-estimator {font-family: monospace;background-color: #f0f8ff;border: 1px dotted black;border-radius: 0.25em;box-sizing: border-box;margin-bottom: 0.5em;}#sk-container-id-1 div.sk-estimator:hover {background-color: #d4ebff;}#sk-container-id-1 div.sk-parallel-item::after {content: \"\";width: 100%;border-bottom: 1px solid gray;flex-grow: 1;}#sk-container-id-1 div.sk-label:hover label.sk-toggleable__label {background-color: #d4ebff;}#sk-container-id-1 div.sk-serial::before {content: \"\";position: absolute;border-left: 1px solid gray;box-sizing: border-box;top: 0;bottom: 0;left: 50%;z-index: 0;}#sk-container-id-1 div.sk-serial {display: flex;flex-direction: column;align-items: center;background-color: white;padding-right: 0.2em;padding-left: 0.2em;position: relative;}#sk-container-id-1 div.sk-item {position: relative;z-index: 1;}#sk-container-id-1 div.sk-parallel {display: flex;align-items: stretch;justify-content: center;background-color: white;position: relative;}#sk-container-id-1 div.sk-item::before, #sk-container-id-1 div.sk-parallel-item::before {content: \"\";position: absolute;border-left: 1px solid gray;box-sizing: border-box;top: 0;bottom: 0;left: 50%;z-index: -1;}#sk-container-id-1 div.sk-parallel-item {display: flex;flex-direction: column;z-index: 1;position: relative;background-color: white;}#sk-container-id-1 div.sk-parallel-item:first-child::after {align-self: flex-end;width: 50%;}#sk-container-id-1 div.sk-parallel-item:last-child::after {align-self: flex-start;width: 50%;}#sk-container-id-1 div.sk-parallel-item:only-child::after {width: 0;}#sk-container-id-1 div.sk-dashed-wrapped {border: 1px dashed gray;margin: 0 0.4em 0.5em 0.4em;box-sizing: border-box;padding-bottom: 0.4em;background-color: white;}#sk-container-id-1 div.sk-label label {font-family: monospace;font-weight: bold;display: inline-block;line-height: 1.2em;}#sk-container-id-1 div.sk-label-container {text-align: center;}#sk-container-id-1 div.sk-container {/* jupyter's `normalize.less` sets `[hidden] { display: none; }` but bootstrap.min.css set `[hidden] { display: none !important; }` so we also need the `!important` here to be able to override the default hidden behavior on the sphinx rendered scikit-learn.org. See: https://github.com/scikit-learn/scikit-learn/issues/21755 */display: inline-block !important;position: relative;}#sk-container-id-1 div.sk-text-repr-fallback {display: none;}</style><div id=\"sk-container-id-1\" class=\"sk-top-container\"><div class=\"sk-text-repr-fallback\"><pre>LabelEncoder()</pre><b>In a Jupyter environment, please rerun this cell to show the HTML representation or trust the notebook. <br />On GitHub, the HTML representation is unable to render, please try loading this page with nbviewer.org.</b></div><div class=\"sk-container\" hidden><div class=\"sk-item\"><div class=\"sk-estimator sk-toggleable\"><input class=\"sk-toggleable__control sk-hidden--visually\" id=\"sk-estimator-id-1\" type=\"checkbox\" checked><label for=\"sk-estimator-id-1\" class=\"sk-toggleable__label sk-toggleable__label-arrow\">LabelEncoder</label><div class=\"sk-toggleable__content\"><pre>LabelEncoder()</pre></div></div></div></div></div>"
      ],
      "text/plain": [
       "LabelEncoder()"
      ]
     },
     "execution_count": 3,
     "metadata": {},
     "output_type": "execute_result"
    }
   ],
   "source": [
    "encoder = LabelEncoder()\n",
    "encoder.fit(classes)"
   ]
  },
  {
   "cell_type": "code",
   "execution_count": 4,
   "metadata": {
    "colab": {
     "base_uri": "https://localhost:8080/"
    },
    "id": "-PYr98HAGYj6",
    "outputId": "f30660c6-3a6d-4581-d0bf-37c1dcbfbbd8"
   },
   "outputs": [
    {
     "data": {
      "text/html": [
       "<div>\n",
       "<style scoped>\n",
       "    .dataframe tbody tr th:only-of-type {\n",
       "        vertical-align: middle;\n",
       "    }\n",
       "\n",
       "    .dataframe tbody tr th {\n",
       "        vertical-align: top;\n",
       "    }\n",
       "\n",
       "    .dataframe thead th {\n",
       "        text-align: right;\n",
       "    }\n",
       "</style>\n",
       "<table border=\"1\" class=\"dataframe\">\n",
       "  <thead>\n",
       "    <tr style=\"text-align: right;\">\n",
       "      <th></th>\n",
       "      <th>id</th>\n",
       "      <th>file_name</th>\n",
       "      <th>path</th>\n",
       "      <th>magnification</th>\n",
       "      <th>type</th>\n",
       "      <th>lesion</th>\n",
       "    </tr>\n",
       "  </thead>\n",
       "  <tbody>\n",
       "    <tr>\n",
       "      <th>0</th>\n",
       "      <td>SOB_B_A_14-22549AB</td>\n",
       "      <td>SOB_B_A-14-22549AB-40-005.png</td>\n",
       "      <td>./BreaKHis_v1/histology_slides/breast/benign/S...</td>\n",
       "      <td>40X</td>\n",
       "      <td>adenosis</td>\n",
       "      <td>benign</td>\n",
       "    </tr>\n",
       "    <tr>\n",
       "      <th>1</th>\n",
       "      <td>SOB_B_A_14-22549AB</td>\n",
       "      <td>SOB_B_A-14-22549AB-40-022.png</td>\n",
       "      <td>./BreaKHis_v1/histology_slides/breast/benign/S...</td>\n",
       "      <td>40X</td>\n",
       "      <td>adenosis</td>\n",
       "      <td>benign</td>\n",
       "    </tr>\n",
       "    <tr>\n",
       "      <th>2</th>\n",
       "      <td>SOB_B_A_14-22549AB</td>\n",
       "      <td>SOB_B_A-14-22549AB-40-027.png</td>\n",
       "      <td>./BreaKHis_v1/histology_slides/breast/benign/S...</td>\n",
       "      <td>40X</td>\n",
       "      <td>adenosis</td>\n",
       "      <td>benign</td>\n",
       "    </tr>\n",
       "    <tr>\n",
       "      <th>3</th>\n",
       "      <td>SOB_B_A_14-22549AB</td>\n",
       "      <td>SOB_B_A-14-22549AB-40-012.png</td>\n",
       "      <td>./BreaKHis_v1/histology_slides/breast/benign/S...</td>\n",
       "      <td>40X</td>\n",
       "      <td>adenosis</td>\n",
       "      <td>benign</td>\n",
       "    </tr>\n",
       "    <tr>\n",
       "      <th>4</th>\n",
       "      <td>SOB_B_A_14-22549AB</td>\n",
       "      <td>SOB_B_A-14-22549AB-40-017.png</td>\n",
       "      <td>./BreaKHis_v1/histology_slides/breast/benign/S...</td>\n",
       "      <td>40X</td>\n",
       "      <td>adenosis</td>\n",
       "      <td>benign</td>\n",
       "    </tr>\n",
       "  </tbody>\n",
       "</table>\n",
       "</div>"
      ],
      "text/plain": [
       "                   id                      file_name  \\\n",
       "0  SOB_B_A_14-22549AB  SOB_B_A-14-22549AB-40-005.png   \n",
       "1  SOB_B_A_14-22549AB  SOB_B_A-14-22549AB-40-022.png   \n",
       "2  SOB_B_A_14-22549AB  SOB_B_A-14-22549AB-40-027.png   \n",
       "3  SOB_B_A_14-22549AB  SOB_B_A-14-22549AB-40-012.png   \n",
       "4  SOB_B_A_14-22549AB  SOB_B_A-14-22549AB-40-017.png   \n",
       "\n",
       "                                                path magnification      type  \\\n",
       "0  ./BreaKHis_v1/histology_slides/breast/benign/S...           40X  adenosis   \n",
       "1  ./BreaKHis_v1/histology_slides/breast/benign/S...           40X  adenosis   \n",
       "2  ./BreaKHis_v1/histology_slides/breast/benign/S...           40X  adenosis   \n",
       "3  ./BreaKHis_v1/histology_slides/breast/benign/S...           40X  adenosis   \n",
       "4  ./BreaKHis_v1/histology_slides/breast/benign/S...           40X  adenosis   \n",
       "\n",
       "   lesion  \n",
       "0  benign  \n",
       "1  benign  \n",
       "2  benign  \n",
       "3  benign  \n",
       "4  benign  "
      ]
     },
     "execution_count": 4,
     "metadata": {},
     "output_type": "execute_result"
    }
   ],
   "source": [
    "dataset = pd.DataFrame()\n",
    "\n",
    "for clazz in classes:\n",
    "    for sub_clazz in sub_classes[clazz]:\n",
    "        path = os.path.join(base_path, data_path, clazz, \"SOB\", sub_clazz)\n",
    "        for id in os.listdir(path):\n",
    "            for magnification in magnifications:\n",
    "                path_to_files = os.path.join(path, id, magnification)\n",
    "                for file_name in os.listdir(path_to_files):\n",
    "                    dataset = dataset.append({\n",
    "                        'id': id,\n",
    "                        'file_name': file_name,\n",
    "                        'path': os.path.join(path_to_files, file_name),\n",
    "                        'magnification': magnification,\n",
    "                        'type': sub_clazz,\n",
    "                        'lesion': clazz\n",
    "                }, ignore_index=True)\n",
    "                    \n",
    "dataset.head()"
   ]
  },
  {
   "cell_type": "code",
   "execution_count": 5,
   "metadata": {
    "scrolled": true
   },
   "outputs": [
    {
     "data": {
      "text/html": [
       "<div>\n",
       "<style scoped>\n",
       "    .dataframe tbody tr th:only-of-type {\n",
       "        vertical-align: middle;\n",
       "    }\n",
       "\n",
       "    .dataframe tbody tr th {\n",
       "        vertical-align: top;\n",
       "    }\n",
       "\n",
       "    .dataframe thead th {\n",
       "        text-align: right;\n",
       "    }\n",
       "</style>\n",
       "<table border=\"1\" class=\"dataframe\">\n",
       "  <thead>\n",
       "    <tr style=\"text-align: right;\">\n",
       "      <th></th>\n",
       "      <th>file_name</th>\n",
       "      <th>fold_1</th>\n",
       "      <th>fold_2</th>\n",
       "      <th>fold_3</th>\n",
       "      <th>fold_4</th>\n",
       "      <th>fold_5</th>\n",
       "    </tr>\n",
       "  </thead>\n",
       "  <tbody>\n",
       "    <tr>\n",
       "      <th>0</th>\n",
       "      <td>SOB_B_A-14-22549AB-100-001.png</td>\n",
       "      <td>train</td>\n",
       "      <td>train</td>\n",
       "      <td>train</td>\n",
       "      <td>test</td>\n",
       "      <td>test</td>\n",
       "    </tr>\n",
       "    <tr>\n",
       "      <th>1</th>\n",
       "      <td>SOB_B_A-14-22549AB-100-002.png</td>\n",
       "      <td>train</td>\n",
       "      <td>train</td>\n",
       "      <td>train</td>\n",
       "      <td>test</td>\n",
       "      <td>test</td>\n",
       "    </tr>\n",
       "    <tr>\n",
       "      <th>2</th>\n",
       "      <td>SOB_B_A-14-22549AB-100-003.png</td>\n",
       "      <td>train</td>\n",
       "      <td>train</td>\n",
       "      <td>train</td>\n",
       "      <td>test</td>\n",
       "      <td>test</td>\n",
       "    </tr>\n",
       "    <tr>\n",
       "      <th>3</th>\n",
       "      <td>SOB_B_A-14-22549AB-100-004.png</td>\n",
       "      <td>train</td>\n",
       "      <td>train</td>\n",
       "      <td>train</td>\n",
       "      <td>test</td>\n",
       "      <td>test</td>\n",
       "    </tr>\n",
       "    <tr>\n",
       "      <th>4</th>\n",
       "      <td>SOB_B_A-14-22549AB-100-005.png</td>\n",
       "      <td>train</td>\n",
       "      <td>train</td>\n",
       "      <td>train</td>\n",
       "      <td>test</td>\n",
       "      <td>test</td>\n",
       "    </tr>\n",
       "  </tbody>\n",
       "</table>\n",
       "</div>"
      ],
      "text/plain": [
       "                        file_name fold_1 fold_2 fold_3 fold_4 fold_5\n",
       "0  SOB_B_A-14-22549AB-100-001.png  train  train  train   test   test\n",
       "1  SOB_B_A-14-22549AB-100-002.png  train  train  train   test   test\n",
       "2  SOB_B_A-14-22549AB-100-003.png  train  train  train   test   test\n",
       "3  SOB_B_A-14-22549AB-100-004.png  train  train  train   test   test\n",
       "4  SOB_B_A-14-22549AB-100-005.png  train  train  train   test   test"
      ]
     },
     "execution_count": 5,
     "metadata": {},
     "output_type": "execute_result"
    }
   ],
   "source": [
    "# 5 fold K\n",
    "n_folds = (1, 2, 3, 4, 5)\n",
    "\n",
    "folds_df = pd.DataFrame()\n",
    "for nfold in n_folds:\n",
    "    fold_file = f\"dsfold{nfold}.txt\"\n",
    "    \n",
    "    fd = pd.read_csv(fold_file, delimiter=\"|\", names=[\"file_name\", \"magnification\", \"fold\", \"grp\"])\n",
    "    fd = fd[[\"file_name\", \"grp\"]]\n",
    "    fd.rename(columns = {\"grp\":f\"fold_{nfold}\"}, inplace=True)\n",
    "    if folds_df.empty:\n",
    "        folds_df = folds_df.append(fd)\n",
    "    else:\n",
    "        folds_df = folds_df.merge(fd, how=\"inner\", on=\"file_name\")\n",
    "        \n",
    "folds_df.head()"
   ]
  },
  {
   "cell_type": "code",
   "execution_count": 6,
   "metadata": {},
   "outputs": [
    {
     "data": {
      "text/html": [
       "<div>\n",
       "<style scoped>\n",
       "    .dataframe tbody tr th:only-of-type {\n",
       "        vertical-align: middle;\n",
       "    }\n",
       "\n",
       "    .dataframe tbody tr th {\n",
       "        vertical-align: top;\n",
       "    }\n",
       "\n",
       "    .dataframe thead th {\n",
       "        text-align: right;\n",
       "    }\n",
       "</style>\n",
       "<table border=\"1\" class=\"dataframe\">\n",
       "  <thead>\n",
       "    <tr style=\"text-align: right;\">\n",
       "      <th></th>\n",
       "      <th>id</th>\n",
       "      <th>file_name</th>\n",
       "      <th>path</th>\n",
       "      <th>magnification</th>\n",
       "      <th>type</th>\n",
       "      <th>lesion</th>\n",
       "      <th>fold_1</th>\n",
       "      <th>fold_2</th>\n",
       "      <th>fold_3</th>\n",
       "      <th>fold_4</th>\n",
       "      <th>fold_5</th>\n",
       "    </tr>\n",
       "  </thead>\n",
       "  <tbody>\n",
       "    <tr>\n",
       "      <th>0</th>\n",
       "      <td>SOB_B_A_14-22549AB</td>\n",
       "      <td>SOB_B_A-14-22549AB-40-005.png</td>\n",
       "      <td>./BreaKHis_v1/histology_slides/breast/benign/S...</td>\n",
       "      <td>40X</td>\n",
       "      <td>adenosis</td>\n",
       "      <td>benign</td>\n",
       "      <td>train</td>\n",
       "      <td>train</td>\n",
       "      <td>train</td>\n",
       "      <td>test</td>\n",
       "      <td>test</td>\n",
       "    </tr>\n",
       "    <tr>\n",
       "      <th>1</th>\n",
       "      <td>SOB_B_A_14-22549AB</td>\n",
       "      <td>SOB_B_A-14-22549AB-40-022.png</td>\n",
       "      <td>./BreaKHis_v1/histology_slides/breast/benign/S...</td>\n",
       "      <td>40X</td>\n",
       "      <td>adenosis</td>\n",
       "      <td>benign</td>\n",
       "      <td>train</td>\n",
       "      <td>train</td>\n",
       "      <td>train</td>\n",
       "      <td>test</td>\n",
       "      <td>test</td>\n",
       "    </tr>\n",
       "    <tr>\n",
       "      <th>2</th>\n",
       "      <td>SOB_B_A_14-22549AB</td>\n",
       "      <td>SOB_B_A-14-22549AB-40-027.png</td>\n",
       "      <td>./BreaKHis_v1/histology_slides/breast/benign/S...</td>\n",
       "      <td>40X</td>\n",
       "      <td>adenosis</td>\n",
       "      <td>benign</td>\n",
       "      <td>train</td>\n",
       "      <td>train</td>\n",
       "      <td>train</td>\n",
       "      <td>test</td>\n",
       "      <td>test</td>\n",
       "    </tr>\n",
       "    <tr>\n",
       "      <th>3</th>\n",
       "      <td>SOB_B_A_14-22549AB</td>\n",
       "      <td>SOB_B_A-14-22549AB-40-012.png</td>\n",
       "      <td>./BreaKHis_v1/histology_slides/breast/benign/S...</td>\n",
       "      <td>40X</td>\n",
       "      <td>adenosis</td>\n",
       "      <td>benign</td>\n",
       "      <td>train</td>\n",
       "      <td>train</td>\n",
       "      <td>train</td>\n",
       "      <td>test</td>\n",
       "      <td>test</td>\n",
       "    </tr>\n",
       "    <tr>\n",
       "      <th>4</th>\n",
       "      <td>SOB_B_A_14-22549AB</td>\n",
       "      <td>SOB_B_A-14-22549AB-40-017.png</td>\n",
       "      <td>./BreaKHis_v1/histology_slides/breast/benign/S...</td>\n",
       "      <td>40X</td>\n",
       "      <td>adenosis</td>\n",
       "      <td>benign</td>\n",
       "      <td>train</td>\n",
       "      <td>train</td>\n",
       "      <td>train</td>\n",
       "      <td>test</td>\n",
       "      <td>test</td>\n",
       "    </tr>\n",
       "  </tbody>\n",
       "</table>\n",
       "</div>"
      ],
      "text/plain": [
       "                   id                      file_name  \\\n",
       "0  SOB_B_A_14-22549AB  SOB_B_A-14-22549AB-40-005.png   \n",
       "1  SOB_B_A_14-22549AB  SOB_B_A-14-22549AB-40-022.png   \n",
       "2  SOB_B_A_14-22549AB  SOB_B_A-14-22549AB-40-027.png   \n",
       "3  SOB_B_A_14-22549AB  SOB_B_A-14-22549AB-40-012.png   \n",
       "4  SOB_B_A_14-22549AB  SOB_B_A-14-22549AB-40-017.png   \n",
       "\n",
       "                                                path magnification      type  \\\n",
       "0  ./BreaKHis_v1/histology_slides/breast/benign/S...           40X  adenosis   \n",
       "1  ./BreaKHis_v1/histology_slides/breast/benign/S...           40X  adenosis   \n",
       "2  ./BreaKHis_v1/histology_slides/breast/benign/S...           40X  adenosis   \n",
       "3  ./BreaKHis_v1/histology_slides/breast/benign/S...           40X  adenosis   \n",
       "4  ./BreaKHis_v1/histology_slides/breast/benign/S...           40X  adenosis   \n",
       "\n",
       "   lesion fold_1 fold_2 fold_3 fold_4 fold_5  \n",
       "0  benign  train  train  train   test   test  \n",
       "1  benign  train  train  train   test   test  \n",
       "2  benign  train  train  train   test   test  \n",
       "3  benign  train  train  train   test   test  \n",
       "4  benign  train  train  train   test   test  "
      ]
     },
     "execution_count": 6,
     "metadata": {},
     "output_type": "execute_result"
    }
   ],
   "source": [
    "dataset = dataset.merge(folds_df, how=\"inner\", on=\"file_name\")\n",
    "dataset.head()"
   ]
  },
  {
   "cell_type": "markdown",
   "metadata": {},
   "source": [
    "### ScratchPad\n",
    "No need to run this, head over to next section"
   ]
  },
  {
   "cell_type": "code",
   "execution_count": null,
   "metadata": {
    "colab": {
     "base_uri": "https://localhost:8080/"
    },
    "id": "R_rR9rmAyPk9",
    "outputId": "4846c651-53d7-469b-bab1-ea025904b1e0"
   },
   "outputs": [],
   "source": [
    "image_size = (46, 70, 3)\n",
    "\n",
    "x_train, x_test, y_train, y_test = [], [], [], []\n",
    "\n",
    "n_fold = 1\n",
    "for i, row in tqdm(dataset.iterrows()):\n",
    "    image = load_img(row[\"path\"], target_size=image_size)\n",
    "    if row[f\"fold_{n_fold}\"] == \"train\":\n",
    "        x_train.append(img_to_array(image) / 255.0)\n",
    "        y_train.append(row[\"lesion\"])\n",
    "    else:\n",
    "        x_test.append(img_to_array(image) / 255.0)\n",
    "        y_test.append(row[\"lesion\"])"
   ]
  },
  {
   "cell_type": "code",
   "execution_count": null,
   "metadata": {},
   "outputs": [],
   "source": [
    "x_train_ = np.asarray(x_train)\n",
    "x_test_ = np.asarray(x_test)\n",
    "print(x_train_.shape)\n",
    "print(x_test_.shape)"
   ]
  },
  {
   "cell_type": "code",
   "execution_count": null,
   "metadata": {},
   "outputs": [],
   "source": [
    "x_train_ = np.reshape(x_train_, (len(x_train_), np.prod(image_size)))\n",
    "x_test_ = np.reshape(x_test_, (len(x_test_), np.prod(image_size)))\n",
    "print(x_train_.shape)\n",
    "print(x_test_.shape)"
   ]
  },
  {
   "cell_type": "code",
   "execution_count": null,
   "metadata": {},
   "outputs": [],
   "source": [
    "y_train_ = encoder.transform(y_train)\n",
    "y_test_ = encoder.transform(y_test)"
   ]
  },
  {
   "cell_type": "markdown",
   "metadata": {},
   "source": [
    "### Classifier Functions"
   ]
  },
  {
   "cell_type": "code",
   "execution_count": 7,
   "metadata": {
    "colab": {
     "base_uri": "https://localhost:8080/",
     "height": 391
    },
    "id": "vC9oY3Tbexoa",
    "outputId": "18bd309c-e4e9-42d3-f5a8-25e3dae1b256"
   },
   "outputs": [],
   "source": [
    "def knn_clf(x_train, y_train, x_test, y_test):\n",
    "    k = 1\n",
    "    knn_clf = KNeighborsClassifier(n_neighbors=k)\n",
    "    knn_clf.fit(x_train_, y_train_)\n",
    "    \n",
    "    return classification_report(y_test_, knn_clf.predict(x_test_), output_dict=True)\n",
    "\n",
    "def svm_clf(x_train, y_train, x_test, y_test):\n",
    "    svm_clf = SVC()\n",
    "    svm_clf = svm_clf.fit(x_train_, y_train_)\n",
    "\n",
    "    return classification_report(y_test_, svm_clf.predict(x_test_), output_dict=True)\n",
    "\n",
    "def dt_clf(x_train, y_train, x_test, y_test):\n",
    "    dt_clf = DecisionTreeClassifier()\n",
    "    dt_clf = dt_clf.fit(x_train_, y_train_)\n",
    "\n",
    "    return classification_report(y_test_, dt_clf.predict(x_test_), output_dict=True)"
   ]
  },
  {
   "cell_type": "code",
   "execution_count": 13,
   "metadata": {},
   "outputs": [],
   "source": [
    "image_size = (46, 70, 3)\n",
    "n_folds = (4, 5)"
   ]
  },
  {
   "cell_type": "code",
   "execution_count": 37,
   "metadata": {},
   "outputs": [],
   "source": [
    "results = {\n",
    "    \"knn\": {\n",
    "        \"40X\": {},\n",
    "        \"100X\": {},\n",
    "        \"200X\": {},\n",
    "        \"400X\": {}\n",
    "    },\n",
    "    \"svm\": {\n",
    "        \"40X\": {},\n",
    "        \"100X\": {},\n",
    "        \"200X\": {},\n",
    "        \"400X\": {}\n",
    "    },\n",
    "    \"dt\": {\n",
    "        \"40X\": {},\n",
    "        \"100X\": {},\n",
    "        \"200X\": {},\n",
    "        \"400X\": {}\n",
    "    },\n",
    "}"
   ]
  },
  {
   "cell_type": "code",
   "execution_count": null,
   "metadata": {},
   "outputs": [],
   "source": [
    "for n_fold in n_folds:\n",
    "    train_df = dataset.copy()[dataset[f\"fold_{n_fold}\"] == \"train\"]\n",
    "    test_df = dataset.copy().drop(train_df.index).reset_index(drop=True)\n",
    "\n",
    "    x_train, x_test, y_train, y_test = [], [], [], []\n",
    "\n",
    "    for i, row in tqdm(train_df.iterrows()):\n",
    "        image = load_img(row[\"path\"], target_size=image_size)\n",
    "        x_train.append(img_to_array(image) / 255.0)\n",
    "        y_train.append(row[\"lesion\"])\n",
    "\n",
    "    for i, row in tqdm(test_df.iterrows()):\n",
    "        image = load_img(row[\"path\"], target_size=image_size)\n",
    "        x_test.append(img_to_array(image) / 255.0)\n",
    "        y_test.append(row[\"lesion\"])    \n",
    "\n",
    "    x_train_ = np.asarray(x_train)\n",
    "    x_test_ = np.asarray(x_test)\n",
    "\n",
    "    x_train_ = np.reshape(x_train_, (len(x_train_), np.prod(image_size)))\n",
    "    x_test_ = np.reshape(x_test_, (len(x_test_), np.prod(image_size)))\n",
    "\n",
    "    y_train_ = encoder.transform(y_train)\n",
    "    y_test_ = encoder.transform(y_test)\n",
    "\n",
    "    print(f\"Processing fold {n_fold}\")\n",
    "    # 1NN\n",
    "    results[\"knn\"][f\"fold_{n_fold}\"] = knn_clf(x_train_, y_train_, x_test_, y_test_)\n",
    "    # SVM\n",
    "    results[\"svm\"][f\"fold_{n_fold}\"] = svm_clf(x_train_, y_train_, x_test_, y_test_)\n",
    "\n",
    "    # Decision Tree\n",
    "    results[\"dt\"][f\"fold_{n_fold}\"] = dt_clf(x_train_, y_train_, x_test_, y_test_)\n",
    "    \n",
    "    print(f\"Fold {n_fold} processed\")\n",
    "\n",
    "print(results)\n"
   ]
  },
  {
   "cell_type": "code",
   "execution_count": 88,
   "metadata": {},
   "outputs": [],
   "source": [
    "def run_clfs(mag):\n",
    "    print(\"Magnification:\", mag)\n",
    "    for n_fold in n_folds:\n",
    "        df = dataset.copy()[dataset[\"magnification\"] == mag]\n",
    "        train_df = df.copy()[dataset[f\"fold_{n_fold}\"] == \"train\"]\n",
    "        test_df = df.copy().drop(train_df.index).reset_index(drop=True)\n",
    "\n",
    "        x_train, x_test, y_train, y_test = [], [], [], []\n",
    "\n",
    "        for i, row in tqdm(train_df.iterrows()):\n",
    "            image = load_img(row[\"path\"], target_size=image_size)\n",
    "            x_train.append(img_to_array(image) / 255.0)\n",
    "            y_train.append(row[\"lesion\"])\n",
    "\n",
    "        for i, row in tqdm(test_df.iterrows()):\n",
    "            image = load_img(row[\"path\"], target_size=image_size)\n",
    "            x_test.append(img_to_array(image) / 255.0)\n",
    "            y_test.append(row[\"lesion\"])    \n",
    "\n",
    "        x_train_ = np.asarray(x_train)\n",
    "        x_test_ = np.asarray(x_test)\n",
    "\n",
    "        x_train_ = np.reshape(x_train_, (len(x_train_), np.prod(image_size)))\n",
    "        x_test_ = np.reshape(x_test_, (len(x_test_), np.prod(image_size)))\n",
    "\n",
    "        y_train_ = encoder.transform(y_train)\n",
    "        y_test_ = encoder.transform(y_test)\n",
    "\n",
    "        print(f\"Processing fold {n_fold}\")\n",
    "        # 1NN\n",
    "        results[\"knn\"][mag][f\"fold_{n_fold}\"] = knn_clf(x_train_, y_train_, x_test_, y_test_)\n",
    "        # SVM\n",
    "        results[\"svm\"][mag][f\"fold_{n_fold}\"] = svm_clf(x_train_, y_train_, x_test_, y_test_)\n",
    "        # Decision Tree\n",
    "        results[\"dt\"][mag][f\"fold_{n_fold}\"] = dt_clf(x_train_, y_train_, x_test_, y_test_)\n",
    "        \n",
    "        print(f\"Fold {n_fold} processed\")"
   ]
  },
  {
   "cell_type": "code",
   "execution_count": 89,
   "metadata": {},
   "outputs": [
    {
     "name": "stdout",
     "output_type": "stream",
     "text": [
      "Magnification: 40X\n"
     ]
    },
    {
     "name": "stderr",
     "output_type": "stream",
     "text": [
      "1295it [00:21, 59.46it/s]\n",
      "700it [00:10, 64.92it/s]\n"
     ]
    },
    {
     "name": "stdout",
     "output_type": "stream",
     "text": [
      "Processing fold 4\n",
      "Fold 4 processed\n"
     ]
    },
    {
     "name": "stderr",
     "output_type": "stream",
     "text": [
      "1220it [00:18, 66.78it/s]\n",
      "775it [00:12, 63.43it/s]\n"
     ]
    },
    {
     "name": "stdout",
     "output_type": "stream",
     "text": [
      "Processing fold 5\n",
      "Fold 5 processed\n"
     ]
    }
   ],
   "source": [
    "run_clfs(\"40X\")"
   ]
  },
  {
   "cell_type": "code",
   "execution_count": 90,
   "metadata": {},
   "outputs": [
    {
     "name": "stdout",
     "output_type": "stream",
     "text": [
      "knn 40X avg accuracy: 0.7038598767434318\n",
      "svm 40X avg accuracy: 0.8400908206292572\n",
      "dt 40X avg accuracy: 0.7169964320467077\n"
     ]
    }
   ],
   "source": [
    "# results = {'knn': {'fold_1': {'0': {'precision': 0.6133971291866028, 'recall': 0.6359126984126984, 'f1-score': 0.6244520214320506, 'support': 1008}, '1': {'precision': 0.8025820333512641, 'recall': 0.7869198312236287, 'f1-score': 0.7946737683089214, 'support': 1896}, 'accuracy': 0.734504132231405, 'macro avg': {'precision': 0.7079895812689334, 'recall': 0.7114162648181636, 'f1-score': 0.709562894870486, 'support': 2904}, 'weighted avg': {'precision': 0.736914545955266, 'recall': 0.734504132231405, 'f1-score': 0.7355885338557927, 'support': 2904}}, 'fold_2': {'0': {'precision': 0.44786729857819907, 'recall': 0.5220994475138122, 'f1-score': 0.48214285714285715, 'support': 724}, '1': {'precision': 0.7780628608082104, 'recall': 0.7224538415723645, 'f1-score': 0.7492279184681904, 'support': 1679}, 'accuracy': 0.6620890553474823, 'macro avg': {'precision': 0.6129650796932047, 'recall': 0.6222766445430883, 'f1-score': 0.6156853878055237, 'support': 2403}, 'weighted avg': {'precision': 0.6785782220006665, 'recall': 0.6620890553474823, 'f1-score': 0.6687578458924346, 'support': 2403}}, 'fold_3': {'0': {'precision': 0.7592592592592593, 'recall': 0.7377892030848329, 'f1-score': 0.7483702737940024, 'support': 778}, '1': {'precision': 0.8879736408566722, 'recall': 0.8988326848249028, 'f1-score': 0.8933701657458565, 'support': 1799}, 'accuracy': 0.8502134264648816, 'macro avg': {'precision': 0.8236164500579657, 'recall': 0.8183109439548678, 'f1-score': 0.8208702197699295, 'support': 2577}, 'weighted avg': {'precision': 0.849114584247131, 'recall': 0.8502134264648816, 'f1-score': 0.8495944901779315, 'support': 2577}}, 'fold_4': {'0': {'precision': 0.7819420783645656, 'recall': 0.4909090909090909, 'f1-score': 0.6031537450722734, 'support': 935}, '1': {'precision': 0.7745144481288488, 'recall': 0.9273964832671583, 'f1-score': 0.8440887971089313, 'support': 1763}, 'accuracy': 0.7761304670126019, 'macro avg': {'precision': 0.7782282632467072, 'recall': 0.7091527870881246, 'f1-score': 0.7236212710906023, 'support': 2698}, 'weighted avg': {'precision': 0.7770885156864453, 'recall': 0.7761304670126019, 'f1-score': 0.7605920314846633, 'support': 2698}}, 'fold_5': {'0': {'precision': 0.6645702306079665, 'recall': 0.29626168224299065, 'f1-score': 0.40982546864899805, 'support': 1070}, '1': {'precision': 0.7110514198004605, 'recall': 0.9205166418281172, 'f1-score': 0.802338168434726, 'support': 2013}, 'accuracy': 0.7038598767434318, 'macro avg': {'precision': 0.6878108252042134, 'recall': 0.6083891620355539, 'f1-score': 0.606081818541862, 'support': 3083}, 'weighted avg': {'precision': 0.6949194469052388, 'recall': 0.7038598767434318, 'f1-score': 0.6661109258882685, 'support': 3083}}}, 'svm': {'fold_1': {'0': {'precision': 0.8078947368421052, 'recall': 0.6091269841269841, 'f1-score': 0.6945701357466063, 'support': 1008}, '1': {'precision': 0.816231343283582, 'recall': 0.9229957805907173, 'f1-score': 0.8663366336633663, 'support': 1896}, 'accuracy': 0.8140495867768595, 'macro avg': {'precision': 0.8120630400628437, 'recall': 0.7660613823588507, 'f1-score': 0.7804533847049864, 'support': 2904}, 'weighted avg': {'precision': 0.8133376451799289, 'recall': 0.8140495867768595, 'f1-score': 0.8067152046344084, 'support': 2904}}, 'fold_2': {'0': {'precision': 0.6768488745980707, 'recall': 0.5814917127071824, 'f1-score': 0.62555720653789, 'support': 724}, '1': {'precision': 0.8298708590679393, 'recall': 0.8802858844550328, 'f1-score': 0.854335260115607, 'support': 1679}, 'accuracy': 0.7902621722846442, 'macro avg': {'precision': 0.753359866833005, 'recall': 0.7308887985811076, 'f1-score': 0.7399462333267486, 'support': 2403}, 'weighted avg': {'precision': 0.7837668570886698, 'recall': 0.7902621722846442, 'f1-score': 0.7854067079765029, 'support': 2403}}, 'fold_3': {'0': {'precision': 0.875, 'recall': 0.6658097686375322, 'f1-score': 0.7562043795620439, 'support': 778}, '1': {'precision': 0.8690176322418136, 'recall': 0.9588660366870484, 'f1-score': 0.9117336152219874, 'support': 1799}, 'accuracy': 0.8703919285991463, 'macro avg': {'precision': 0.8720088161209067, 'recall': 0.8123379026622903, 'f1-score': 0.8339689973920157, 'support': 2577}, 'weighted avg': {'precision': 0.8708237176573623, 'recall': 0.8703919285991463, 'f1-score': 0.8647791156707898, 'support': 2577}}, 'fold_4': {'0': {'precision': 0.7866004962779156, 'recall': 0.6780748663101605, 'f1-score': 0.7283170591614014, 'support': 935}, '1': {'precision': 0.8409090909090909, 'recall': 0.9024390243902439, 'f1-score': 0.8705882352941177, 'support': 1763}, 'accuracy': 0.8246849518161601, 'macro avg': {'precision': 0.8137547935935032, 'recall': 0.7902569453502022, 'f1-score': 0.7994526472277595, 'support': 2698}, 'weighted avg': {'precision': 0.822088284393098, 'recall': 0.8246849518161601, 'f1-score': 0.821283732075404, 'support': 2698}}, 'fold_5': {'0': {'precision': 0.8821192052980132, 'recall': 0.6224299065420561, 'f1-score': 0.7298630136986302, 'support': 1070}, '1': {'precision': 0.8264604810996563, 'recall': 0.9557873820168902, 'f1-score': 0.8864316977654917, 'support': 2013}, 'accuracy': 0.8400908206292572, 'macro avg': {'precision': 0.8542898431988348, 'recall': 0.7891086442794731, 'f1-score': 0.8081473557320609, 'support': 3083}, 'weighted avg': {'precision': 0.8457776510290244, 'recall': 0.8400908206292572, 'f1-score': 0.8320922582742357, 'support': 3083}}}, 'dt': {'fold_1': {'0': {'precision': 0.587527352297593, 'recall': 0.5327380952380952, 'f1-score': 0.558792924037461, 'support': 1008}, '1': {'precision': 0.7633165829145728, 'recall': 0.8011603375527426, 'f1-score': 0.7817807514153372, 'support': 1896}, 'accuracy': 0.7079889807162535, 'macro avg': {'precision': 0.6754219676060829, 'recall': 0.6669492163954189, 'f1-score': 0.6702868377263991, 'support': 2904}, 'weighted avg': {'precision': 0.7022988334442163, 'recall': 0.7079889807162535, 'f1-score': 0.7043800179453306, 'support': 2904}}, 'fold_2': {'0': {'precision': 0.4780821917808219, 'recall': 0.48204419889502764, 'f1-score': 0.4800550206327373, 'support': 724}, '1': {'precision': 0.775851763299462, 'recall': 0.7730792138177487, 'f1-score': 0.7744630071599046, 'support': 1679}, 'accuracy': 0.6853932584269663, 'macro avg': {'precision': 0.626966977540142, 'recall': 0.6275617063563882, 'f1-score': 0.627259013896321, 'support': 2403}, 'weighted avg': {'precision': 0.686136752987562, 'recall': 0.6853932584269663, 'f1-score': 0.685760808971944, 'support': 2403}}, 'fold_3': {'0': {'precision': 0.5406360424028268, 'recall': 0.589974293059126, 'f1-score': 0.5642286416717885, 'support': 778}, '1': {'precision': 0.8153935185185185, 'recall': 0.783212896053363, 'f1-score': 0.7989793025233909, 'support': 1799}, 'accuracy': 0.7248738843616609, 'macro avg': {'precision': 0.6780147804606727, 'recall': 0.6865935945562445, 'f1-score': 0.6816039720975897, 'support': 2577}, 'weighted avg': {'precision': 0.7324438419884416, 'recall': 0.7248738843616609, 'f1-score': 0.7281077409624493, 'support': 2577}}, 'fold_4': {'0': {'precision': 0.6010471204188481, 'recall': 0.613903743315508, 'f1-score': 0.6074074074074074, 'support': 935}, '1': {'precision': 0.7928858290304074, 'recall': 0.7838910947249007, 'f1-score': 0.7883628066172277, 'support': 1763}, 'accuracy': 0.7249814677538917, 'macro avg': {'precision': 0.6969664747246278, 'recall': 0.6988974190202044, 'f1-score': 0.6978851070123175, 'support': 2698}, 'weighted avg': {'precision': 0.7264035486183215, 'recall': 0.7249814677538917, 'f1-score': 0.7256521697524456, 'support': 2698}}, 'fold_5': {'0': {'precision': 0.5905349794238683, 'recall': 0.5364485981308411, 'f1-score': 0.5621939275220372, 'support': 1070}, '1': {'precision': 0.7650402652771199, 'recall': 0.8022851465474417, 'f1-score': 0.7832201745877789, 'support': 2013}, 'accuracy': 0.7100227051573142, 'macro avg': {'precision': 0.6777876223504942, 'recall': 0.6693668723391414, 'f1-score': 0.672707051054908, 'support': 3083}, 'weighted avg': {'precision': 0.7044756672028485, 'recall': 0.7100227051573142, 'f1-score': 0.7065098001601618, 'support': 3083}}}}\n",
    "for clf, r in results.items():\n",
    "    for mag, d in r.items():\n",
    "        avg_accuracy = 0\n",
    "        for fold, data in d.items():\n",
    "            avg_accuracy += data[\"accuracy\"]\n",
    "    \n",
    "        if (len(d) > 0):\n",
    "            avg_accuracy = avg_accuracy / len(d)\n",
    "            print(clf, mag, \"avg accuracy:\", avg_accuracy)"
   ]
  }
 ],
 "metadata": {
  "accelerator": "GPU",
  "colab": {
   "provenance": []
  },
  "gpuClass": "standard",
  "kernelspec": {
   "display_name": "Python 3 (ipykernel)",
   "language": "python",
   "name": "python3"
  },
  "language_info": {
   "codemirror_mode": {
    "name": "ipython",
    "version": 3
   },
   "file_extension": ".py",
   "mimetype": "text/x-python",
   "name": "python",
   "nbconvert_exporter": "python",
   "pygments_lexer": "ipython3",
   "version": "3.10.7"
  },
  "vscode": {
   "interpreter": {
    "hash": "5451a9d63224226169f8a39e23e3311b9a93f8585bd08af47fd4ad0b256c7db9"
   }
  }
 },
 "nbformat": 4,
 "nbformat_minor": 1
}
